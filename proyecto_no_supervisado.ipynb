{
 "cells": [
  {
   "cell_type": "markdown",
   "id": "05e87860",
   "metadata": {},
   "source": [
    "<h2> PROYECTO - Aprendizaje No Supervisado<h2>"
   ]
  },
  {
   "cell_type": "markdown",
   "id": "ee50d656",
   "metadata": {},
   "source": [
    "<h2>Integrantes:<h2>\n",
    "<h3>- Maximiliano Zapater Cornejo<h3>\n",
    "<h3>- Javiera Vukasovic Figueroa<h3>\n",
    "<h3>- Sebastián Silva Espinoza<h3>\n",
    "<h3>- Glen Restrepo Arteaga<h3>\n",
    "<h3>- Marco Gutiérrez Corvalán<h3>"
   ]
  },
  {
   "cell_type": "markdown",
   "id": "14a5aad9",
   "metadata": {},
   "source": [
    "Utilizaremos un dataset para estimación de los niveles de obesidad según los hábitos alimenticios y condiciones físicas en 2111 personas de Colombia, Perú y México. \n",
    "\n",
    "**El dataset contiene los siguientes atributos**:\n",
    "\n",
    "* Gender (*binario*): Género [*Female/Male*]\n",
    "\n",
    "* Age (*numérico continuo*): Edad \n",
    "* Height (*numérico continuo*): Altura [*metros*]\n",
    "* Weight (*numérico continuo)*: Peso [*kilogramos*]\n",
    "* Family history with overweight (*binario*): ¿Algún miembro de la familia ha sufrido o sufre de sobrepeso?\n",
    "* FAVC (*binario*): ¿Comes alimentos altos en calorías frecuentemente?\n",
    "* FCVC (*numérico entero*): ¿Usualmente comes vegetales en tus comidas principales? [*Never/Sometimes/Always*]\n",
    "* NCP (*numérico continuo*): ¿Cuántas comidas principales consumes diariamente? [*Between 1 and 2/Three/More than three*]\n",
    "* CAEC (*categórica*): ¿Comes algún alimento entre comidas principales? [*No/Sometimes/Frequently/Always*]\n",
    "* SMOKE (*binario*): ¿Fumas?\n",
    "* CH2O (*numérico continuo*): ¿Cuánta agua bebes diariamente? [*Less than a liter/Between 1 and 2L/More than 2L*]\n",
    "* SCC (*binario*): ¿Monitoreas las calorías que consumes diariamente?\n",
    "* FAF (*numérico continuo*): ¿Qué tan seguido realizas actividad física? [*I do not have/1 or 2 days/2 or 4 days/4 or 5 days*]\n",
    "* TUE (*numérico entero*): ¿Cuánto tiempo usas aparatos electrónicos tales como celular, videojuegos, televisión, computadora u otros?\n",
    "* CALC (*categórica*): ¿Qué tan seguido bebes alcohol? [*I do not drink/Sometimes/Frequently/Always*]\n",
    "* MTRANS (*categórica*): ¿Qué medio de transporte sueles utilizar? [*Automobile/Motorbike/Bike/Public Transportation/Walking*]"
   ]
  },
  {
   "cell_type": "markdown",
   "id": "dc5a78b5",
   "metadata": {},
   "source": [
    "<h3> Preprocesamiento <h3>"
   ]
  },
  {
   "cell_type": "code",
   "execution_count": null,
   "id": "f114a675",
   "metadata": {},
   "outputs": [],
   "source": [
    "import pandas as pd\n",
    "import numpy as np\n",
    "import matplotlib.pyplot as plt\n",
    "import seaborn as sns\n",
    "import warnings\n",
    "from sklearn.preprocessing import scale\n",
    "\n",
    "warnings.filterwarnings('ignore')\n",
    "\n",
    "df_obesity_raw = pd.read_csv('ObesityDataSet_raw_and_data_sinthetic.csv')\n",
    "df_obesity = df_obesity_raw.drop(columns = ['NObeyesdad'])\n",
    "display(df_obesity.head())"
   ]
  },
  {
   "cell_type": "markdown",
   "id": "7e803cec",
   "metadata": {},
   "source": [
    "El dataset tiene atributos numéricos y categóricos. Para generar un modelo con un dataset de este estilo es necesario codificar las variables categóricas transformándolas en variables numéricas."
   ]
  },
  {
   "cell_type": "code",
   "execution_count": 3,
   "id": "c6ea4325",
   "metadata": {},
   "outputs": [],
   "source": [
    "## One Hot Encoding\n",
    "oh_enc = pd.get_dummies(df_obesity[['Gender', 'family_history_with_overweight', 'FAVC', 'CAEC', 'SMOKE', 'SCC', 'CALC', 'MTRANS']])\n",
    "oh_enc = oh_enc.astype(int)\n",
    "\n",
    "df_obesity_oh_enc = df_obesity.copy()\n",
    "df_obesity_oh_enc.drop(columns = ['Gender', 'family_history_with_overweight', 'FAVC', 'CAEC', 'SMOKE', 'SCC', 'CALC', 'MTRANS'], inplace = True)\n",
    "df_obesity_oh_enc = pd.concat([df_obesity_oh_enc, oh_enc], axis = 1)\n",
    "\n",
    "## Escalamos los datos\n",
    "df_obesity_oh_enc_scaled = pd.DataFrame(scale(df_obesity_oh_enc))\n",
    "df_obesity_oh_enc_scaled.columns = df_obesity_oh_enc.columns"
   ]
  },
  {
   "cell_type": "code",
   "execution_count": 4,
   "id": "90470180",
   "metadata": {},
   "outputs": [],
   "source": [
    "## Frequency Encoding\n",
    "df_obesity_freq_enc = df_obesity.copy()\n",
    "\n",
    "## Lista de columnas categóricas\n",
    "cat_cols = ['Gender', 'family_history_with_overweight', 'FAVC', 'CAEC', 'SMOKE', 'SCC', 'CALC', 'MTRANS']\n",
    "\n",
    "## Codificación por frecuencia\n",
    "for col in cat_cols:\n",
    "    freq = df_obesity_freq_enc[col].value_counts(normalize = True)  ## Frecuencia relativa\n",
    "    df_obesity_freq_enc[col + '_freq'] = df_obesity_freq_enc[col].map(freq)\n",
    "\n",
    "## Eliminar las columnas categóricas originales\n",
    "df_obesity_freq_enc.drop(columns = cat_cols, inplace = True)\n",
    "\n",
    "## Escalado de datos\n",
    "df_obesity_freq_enc_scaled = pd.DataFrame(scale(df_obesity_freq_enc))\n",
    "df_obesity_freq_enc_scaled.columns = df_obesity_freq_enc.columns"
   ]
  },
  {
   "cell_type": "code",
   "execution_count": 5,
   "id": "037eb9cc",
   "metadata": {},
   "outputs": [],
   "source": [
    "## Label Encoding\n",
    "from sklearn.preprocessing import LabelEncoder\n",
    "df_obesity_lab_enc = df_obesity.copy()\n",
    "\n",
    "## Lista de columnas categóricas\n",
    "cat_cols = ['Gender', 'family_history_with_overweight', 'FAVC', 'CAEC', 'SMOKE', 'SCC', 'CALC', 'MTRANS']\n",
    "\n",
    "for col in cat_cols:\n",
    "    label_enc = LabelEncoder()\n",
    "    df_obesity_lab_enc[col + '_lab_enc'] = label_enc.fit_transform(df_obesity_lab_enc[col])\n",
    "\n",
    "## Eliminamos columnas categóricas iniciales\n",
    "df_obesity_lab_enc.drop(columns=cat_cols, inplace=True)\n",
    "df_obesity_lab_enc.head()\n",
    "\n",
    "## Escalado de datos\n",
    "df_obesity_lab_enc_scaled = pd.DataFrame(scale(df_obesity_lab_enc))\n",
    "df_obesity_lab_enc_scaled.columns = df_obesity_lab_enc.columns"
   ]
  },
  {
   "cell_type": "code",
   "execution_count": null,
   "id": "d11412ec",
   "metadata": {},
   "outputs": [],
   "source": [
    "## PCA con One Hot Encoding\n",
    "from sklearn.pipeline import make_pipeline\n",
    "from sklearn.preprocessing import StandardScaler\n",
    "from sklearn.decomposition import PCA\n",
    "\n",
    "pca_pipe_oh = make_pipeline(StandardScaler(), PCA())\n",
    "pca_pipe_oh.fit(df_obesity_oh_enc)\n",
    "\n",
    "df_obesity_oh_pca = pca_pipe_oh.named_steps['pca']\n",
    "\n",
    "n_componentes = np.arange(df_obesity_oh_pca.n_components_) + 1\n",
    "varianza_expl = df_obesity_oh_pca.explained_variance_ratio_\n",
    "\n",
    "## Determinamos el porcentaje de varianza explicada por las distintas componentes principales y graficamos\n",
    "n_componentes = np.arange(df_obesity_oh_pca.n_components_) + 1\n",
    "varianza_expl = df_obesity_oh_pca.explained_variance_ratio_\n",
    "\n",
    "plt.figure(figsize = (12, 4))\n",
    "plt.bar(x = n_componentes, height = varianza_expl, edgecolor = 'black')\n",
    "plt.xticks(ticks = n_componentes)\n",
    "for i in range(len(n_componentes)):\n",
    "    plt.text(x = n_componentes[i], y = varianza_expl[i] + 0.01, s = f'{varianza_expl[i]:.2f}', ha = 'center')\n",
    "    \n",
    "plt.title('Porcentaje de varianza explicada vs Componente Principal (One Hot Encoding)')\n",
    "plt.ylabel('Porcentaje de varianza explicada')\n",
    "plt.xlabel('Componente Principal')\n",
    "plt.ylim([0, 0.2])\n",
    "plt.tight_layout()\n",
    "plt.show()"
   ]
  },
  {
   "cell_type": "code",
   "execution_count": null,
   "id": "f3dd4848",
   "metadata": {},
   "outputs": [],
   "source": [
    "## Determinamos el porcentaje de la varianza explicada acumulada\n",
    "varianza_expl_acum = df_obesity_oh_pca.explained_variance_ratio_.cumsum()\n",
    "\n",
    "plt.figure(figsize = (12, 5))\n",
    "plt.plot(n_componentes, varianza_expl_acum, marker = 'o', color = 'blue')\n",
    "plt.plot(range(1, len(varianza_expl_acum)+1), varianza_expl_acum, marker = 'o')\n",
    "plt.axhline(y = 0.8, color = 'r', linestyle = '--', label = '80% de varianza')\n",
    "plt.title('Porcentaje de varianza explicada acumulada vs Número de Componentes Principales')\n",
    "plt.ylabel('Porcentaje de varianza explicada acumulada')\n",
    "plt.xlabel('Número de componentes principales')\n",
    "for i in range(len(n_componentes)):\n",
    "    plt.text(x = n_componentes[i], y = varianza_expl_acum[i] + 0.01, s = f'{varianza_expl_acum[i]:.2f}', ha = 'right')\n",
    "\n",
    "plt.xticks(ticks = n_componentes)\n",
    "plt.legend()\n",
    "plt.grid()\n",
    "plt.ylim([0, 1.1])\n",
    "plt.tight_layout()\n",
    "plt.show()"
   ]
  },
  {
   "cell_type": "code",
   "execution_count": null,
   "id": "c23fd25b",
   "metadata": {},
   "outputs": [],
   "source": [
    "## PCA con Frequency Encoding\n",
    "pca_pipe_freq = make_pipeline(StandardScaler(), PCA())\n",
    "pca_pipe_freq.fit(df_obesity_freq_enc)\n",
    "df_obesity_freq_pca = pca_pipe_freq.named_steps['pca']\n",
    "\n",
    "n_componentes = np.arange(df_obesity_freq_pca.n_components_) + 1\n",
    "varianza_expl = df_obesity_freq_pca.explained_variance_ratio_\n",
    "\n",
    "## Determinamos el porcentaje de varianza explicada por las distintas componentes principales y graficamos\n",
    "n_componentes = np.arange(df_obesity_freq_pca.n_components_) + 1\n",
    "varianza_expl = df_obesity_freq_pca.explained_variance_ratio_\n",
    "\n",
    "plt.figure(figsize = (12, 4))\n",
    "plt.bar(x = n_componentes, height = varianza_expl, edgecolor = 'black')\n",
    "plt.xticks(ticks = n_componentes)\n",
    "for i in range(len(n_componentes)):\n",
    "    plt.text(x = n_componentes[i], y = varianza_expl[i] + 0.01, s = f'{varianza_expl[i]:.2f}', ha = 'center')\n",
    "    \n",
    "plt.title('Porcentaje de varianza explicada vs Componente Principal (Frequency Encoded)')\n",
    "plt.ylabel('Porcentaje de varianza explicada')\n",
    "plt.xlabel('Componente Principal')\n",
    "plt.ylim([0, 0.2])\n",
    "plt.tight_layout()\n",
    "plt.show()"
   ]
  },
  {
   "cell_type": "code",
   "execution_count": null,
   "id": "f9e8d5f2",
   "metadata": {},
   "outputs": [],
   "source": [
    "## Determinamos el porcentaje de la varianza explicada acumulada\n",
    "varianza_expl_acum = df_obesity_freq_pca.explained_variance_ratio_.cumsum()\n",
    "\n",
    "plt.figure(figsize = (12, 5))\n",
    "plt.plot(n_componentes, varianza_expl_acum, marker = 'o', color = 'blue')\n",
    "plt.plot(range(1, len(varianza_expl_acum)+1), varianza_expl_acum, marker = 'o')\n",
    "plt.axhline(y = 0.8, color = 'r', linestyle = '--', label = '80% de varianza')\n",
    "plt.title('Porcentaje de varianza explicada acumulada vs Número de Componentes Principales')\n",
    "plt.ylabel('Porcentaje de varianza explicada acumulada')\n",
    "plt.xlabel('Número de componentes principales')\n",
    "for i in range(len(n_componentes)):\n",
    "    plt.text(x = n_componentes[i], y = varianza_expl_acum[i] + 0.01, s = f'{varianza_expl_acum[i]:.2f}', ha = 'right')\n",
    "\n",
    "plt.xticks(ticks = n_componentes)\n",
    "plt.legend()\n",
    "plt.grid()\n",
    "plt.ylim([0, 1.1])\n",
    "plt.tight_layout()\n",
    "plt.show()"
   ]
  },
  {
   "cell_type": "code",
   "execution_count": null,
   "id": "7538ea12",
   "metadata": {},
   "outputs": [],
   "source": [
    "## PCA con Label Encoding\n",
    "pca_pipe_lab = make_pipeline(StandardScaler(), PCA())\n",
    "pca_pipe_lab.fit(df_obesity_lab_enc)\n",
    "df_obesity_lab_pca = pca_pipe_lab.named_steps['pca']\n",
    "\n",
    "n_componentes = np.arange(df_obesity_lab_pca.n_components_) + 1\n",
    "varianza_expl = df_obesity_lab_pca.explained_variance_ratio_\n",
    "\n",
    "## Determinamos el porcentaje de varianza explicada por las distintas componentes principales y graficamos\n",
    "n_componentes = np.arange(df_obesity_lab_pca.n_components_) + 1\n",
    "varianza_expl = df_obesity_lab_pca.explained_variance_ratio_\n",
    "\n",
    "plt.figure(figsize = (12, 4))\n",
    "plt.bar(x = n_componentes, height = varianza_expl, edgecolor = 'black')\n",
    "plt.xticks(ticks = n_componentes)\n",
    "for i in range(len(n_componentes)):\n",
    "    plt.text(x = n_componentes[i], y = varianza_expl[i] + 0.01, s = f'{varianza_expl[i]:.2f}', ha = 'center')\n",
    "    \n",
    "plt.title('Porcentaje de varianza explicada vs Componente Principal (Label Encoding)')\n",
    "plt.ylabel('Porcentaje de varianza explicada')\n",
    "plt.xlabel('Componente Principal')\n",
    "plt.ylim([0, 0.2])\n",
    "plt.tight_layout()\n",
    "plt.show()"
   ]
  },
  {
   "cell_type": "code",
   "execution_count": null,
   "id": "c6719669",
   "metadata": {},
   "outputs": [],
   "source": [
    "## Determinamos el porcentaje de la varianza explicada acumulada\n",
    "varianza_expl_acum = df_obesity_lab_pca.explained_variance_ratio_.cumsum()\n",
    "\n",
    "plt.figure(figsize = (12, 5))\n",
    "plt.plot(n_componentes, varianza_expl_acum, marker = 'o', color = 'blue')\n",
    "plt.plot(range(1, len(varianza_expl_acum)+1), varianza_expl_acum, marker = 'o')\n",
    "plt.axhline(y = 0.8, color = 'r', linestyle = '--', label = '80% de varianza')\n",
    "plt.title('Porcentaje de varianza explicada acumulada vs Número de Componentes Principales')\n",
    "plt.ylabel('Porcentaje de varianza explicada acumulada')\n",
    "plt.xlabel('Número de componentes principales')\n",
    "for i in range(len(n_componentes)):\n",
    "    plt.text(x = n_componentes[i], y = varianza_expl_acum[i] + 0.01, s = f'{varianza_expl_acum[i]:.2f}', ha = 'right')\n",
    "\n",
    "plt.xticks(ticks = n_componentes)\n",
    "plt.legend()\n",
    "plt.grid()\n",
    "plt.ylim([0, 1.1])\n",
    "plt.tight_layout()\n",
    "plt.show()"
   ]
  },
  {
   "cell_type": "code",
   "execution_count": null,
   "id": "b08cfe3c",
   "metadata": {},
   "outputs": [],
   "source": [
    "corr_matrix = df_obesity_freq_enc.corr()\n",
    "print(corr_matrix)\n",
    "sns.heatmap(corr_matrix)\n",
    "plt.show()\n"
   ]
  },
  {
   "cell_type": "code",
   "execution_count": null,
   "id": "ae946aff",
   "metadata": {},
   "outputs": [],
   "source": [
    "proy_pca_freq = pca_pipe_freq.transform(X = df_obesity_freq_enc)\n",
    "proy_pca_freq = pd.DataFrame(proy_pca_freq)\n",
    "proy_pca_oh = pca_pipe_oh.transform(X = df_obesity_oh_enc)\n",
    "proy_pca_oh = pd.DataFrame(proy_pca_oh)\n",
    "proy_pca_lab = pca_pipe_lab.transform(X = df_obesity_lab_enc)\n",
    "proy_pca_lab = pd.DataFrame(proy_pca_lab)\n",
    "\n",
    "plt.figure(figsize = (7, 7))\n",
    "plt.scatter(proy_pca_freq[0], proy_pca_freq[1])\n",
    "plt.title('Componente principal 2 vs Componente principal 1')\n",
    "plt.xlabel('Componente principal 1')\n",
    "plt.ylabel('Componente principal 2')\n",
    "plt.tight_layout()\n",
    "plt.show()"
   ]
  },
  {
   "cell_type": "code",
   "execution_count": null,
   "id": "9666efa8",
   "metadata": {},
   "outputs": [],
   "source": [
    "## K-Means\n",
    "from sklearn.cluster import KMeans\n",
    "\n",
    "kmeans = KMeans(n_clusters = 8, init = \"k-means++\", n_init = 'auto', max_iter = 1000)\n",
    "y_pred_kmeans = kmeans.fit(proy_pca_freq[[0, 1, 2, 3, 4, 5, 6, 7, 8, 9, 10, 11, 12, 13, 14, 15]])\n",
    "proy_pca_freq['cluster'] = y_pred_kmeans.labels_\n",
    "\n",
    "plt.figure(figsize=(8, 6))\n",
    "sns.scatterplot(x = 0, y = 1, hue = 'cluster', data = proy_pca_freq, palette = 'Set1', alpha = 0.7)\n",
    "\n",
    "plt.title('Clusters obtenidos por K-means en espacio PCA')\n",
    "plt.xlabel('Componente principal 1')\n",
    "plt.ylabel('Componente principal 2')\n",
    "plt.legend(title = 'Cluster')\n",
    "plt.grid(True)\n",
    "plt.tight_layout()\n",
    "plt.show()"
   ]
  },
  {
   "cell_type": "code",
   "execution_count": null,
   "id": "3920c88a",
   "metadata": {},
   "outputs": [],
   "source": [
    "## Método del codo\n",
    "import matplotlib.pyplot as plt\n",
    "from sklearn.cluster import KMeans\n",
    "\n",
    "inertias = []\n",
    "k_values = range(1, 30)\n",
    "\n",
    "for k in k_values:\n",
    "    kmeans = KMeans(n_clusters = k, init = 'k-means++', n_init = 'auto', max_iter = 1000, random_state = 42)\n",
    "    kmeans.fit(proy_pca_freq.iloc[:, :12])\n",
    "    inertias.append(kmeans.inertia_)\n",
    "\n",
    "## Graficar el método del codo\n",
    "plt.figure(figsize=(8, 5))\n",
    "plt.plot(k_values, inertias, 'o-', color='blue')\n",
    "plt.xlabel('Número de clusters (k)')\n",
    "plt.ylabel('Suma de errores cuadráticos')\n",
    "plt.title('Método del codo para determinar k óptimo')\n",
    "plt.grid(True)\n",
    "plt.xticks(k_values)\n",
    "plt.tight_layout()\n",
    "plt.show()"
   ]
  },
  {
   "cell_type": "code",
   "execution_count": null,
   "id": "685b8512",
   "metadata": {},
   "outputs": [],
   "source": [
    "##Convertir a formato de base de datos\n",
    "df_melt_km = proy_pca_freq.melt(id_vars = 'cluster', var_name = 'Variable', value_name = 'Valor')\n",
    "\n",
    "##Creación de boxplot\n",
    "plt.figure(figsize = (18, 8))\n",
    "sns.boxplot(x = 'Variable', y = 'Valor', hue = 'cluster', data = df_melt_km)\n",
    "plt.title('Distribución por variable y cluster')\n",
    "plt.legend(title = 'Cluster')\n",
    "plt.show()"
   ]
  },
  {
   "cell_type": "code",
   "execution_count": null,
   "id": "8b68ca3b",
   "metadata": {},
   "outputs": [],
   "source": [
    "df_obesity_oh_enc  ## One Hot Encoding Sin Escalar\n",
    "df_obesity_freq_enc  ## Frequency Encoding Sin Escalar\n",
    "df_obesity_lab_enc  ## Label Encoding Sin Escalar\n",
    "df_obesity_oh_enc_scaled  ## One Hot Encoding Escalado\n",
    "df_obesity_freq_enc_scaled  ## Frequency Encoding Escalado\n",
    "df_obesity_lab_enc_scaled  ## Label Encoding Escalado\n",
    "proy_pca_oh  ## Proyección en Componentes Principales One Hot Encoding\n",
    "proy_pca_freq  ## Proyección en Componentes Principales Frequency Encoding\n",
    "proy_pca_lab  ## Proyección en Componentes Principales Label Encoding"
   ]
  },
  {
   "cell_type": "markdown",
   "id": "74a7a732",
   "metadata": {},
   "source": [
    "## UMAP (Uniform Manifold Approximation and Projection)\n",
    "- Alternativa no lineal a PCA"
   ]
  },
  {
   "cell_type": "code",
   "execution_count": 18,
   "id": "f36d5d5e",
   "metadata": {},
   "outputs": [],
   "source": [
    "from umap import UMAP\n",
    "import plotly.express as px\n",
    "from mpl_toolkits.mplot3d import Axes3D"
   ]
  },
  {
   "cell_type": "code",
   "execution_count": 20,
   "id": "b615fed2",
   "metadata": {},
   "outputs": [],
   "source": [
    "# Puedes elegir qué codificación usar: One Hot, Frequency, o Label\n",
    "X_umap_f = UMAP(n_components=2, random_state=42).fit_transform(df_obesity_freq_enc_scaled)\n",
    "X_umap_oh = UMAP(n_components=2, random_state=42).fit_transform(df_obesity_oh_enc_scaled)\n",
    "X_umap_lab = UMAP(n_components=2, random_state=42).fit_transform(df_obesity_lab_enc_scaled)"
   ]
  },
  {
   "cell_type": "code",
   "execution_count": 21,
   "id": "3702a7b8",
   "metadata": {},
   "outputs": [],
   "source": [
    "# Guardamos en un DataFrame para visualización\n",
    "df_umap_f = pd.DataFrame(X_umap_f, columns=['UMAP1', 'UMAP2'])\n",
    "df_umap_oh = pd.DataFrame(X_umap_oh, columns=['UMAP1', 'UMAP2'])\n",
    "df_umap_lab = pd.DataFrame(X_umap_lab, columns=['UMAP1', 'UMAP2'])"
   ]
  },
  {
   "cell_type": "code",
   "execution_count": 136,
   "id": "2948e549",
   "metadata": {},
   "outputs": [],
   "source": [
    "kmeans_umap = KMeans(n_clusters=2, init=\"k-means++\", n_init='auto', max_iter=1000)\n",
    "\n",
    "k_umap_f = kmeans_umap.fit_predict(df_umap_f)\n",
    "k_umap_oh = kmeans_umap.fit_predict(df_umap_oh)\n",
    "k_umap_lab = kmeans_umap.fit_predict(df_umap_lab)"
   ]
  },
  {
   "cell_type": "code",
   "execution_count": 137,
   "id": "29f124be",
   "metadata": {},
   "outputs": [],
   "source": [
    "df_umap_f['cluster'] = k_umap_f\n",
    "df_umap_oh['cluster'] = k_umap_oh\n",
    "df_umap_lab['cluster'] = k_umap_lab"
   ]
  },
  {
   "cell_type": "code",
   "execution_count": null,
   "id": "eb9d6070",
   "metadata": {},
   "outputs": [],
   "source": [
    "# Estilo general\n",
    "sns.set(style=\"whitegrid\")\n",
    "\n",
    "# Crear figura con 3 subplots\n",
    "fig, axes = plt.subplots(1, 3, figsize=(18, 5))\n",
    "\n",
    "# Primer gráfico - df_umap_f\n",
    "sns.scatterplot(\n",
    "    data=df_umap_f,\n",
    "    x='UMAP1', y='UMAP2',\n",
    "    hue='cluster',\n",
    "    palette='tab10',\n",
    "    ax=axes[0],\n",
    "    legend=False\n",
    ")\n",
    "axes[0].set_title('UMAP - Frequency Encoding')\n",
    "\n",
    "# Segundo gráfico - df_umap_oh\n",
    "sns.scatterplot(\n",
    "    data=df_umap_oh,\n",
    "    x='UMAP1', y='UMAP2',\n",
    "    hue='cluster',\n",
    "    palette='tab10',\n",
    "    ax=axes[1],\n",
    "    legend=False\n",
    ")\n",
    "axes[1].set_title('UMAP - One-Hot Encoding')\n",
    "\n",
    "# Tercer gráfico - df_umap_lab\n",
    "sns.scatterplot(\n",
    "    data=df_umap_lab,\n",
    "    x='UMAP1', y='UMAP2',\n",
    "    hue='cluster',\n",
    "    palette='tab10',\n",
    "    ax=axes[2],\n",
    "    legend=True\n",
    ")\n",
    "axes[2].set_title('UMAP - Label Encoding')\n",
    "\n",
    "# Ajustar espacio\n",
    "plt.tight_layout()\n",
    "plt.show()\n"
   ]
  },
  {
   "cell_type": "code",
   "execution_count": 144,
   "id": "11dbcd4d",
   "metadata": {},
   "outputs": [],
   "source": [
    "df_encoded = df_umap_lab # Elegir df_umap_f, df_umap_oh o df_umap_lab\n",
    "# cluster = k_umap_f \n",
    "# cluster = k_umap_oh\n",
    "cluster = k_umap_lab"
   ]
  },
  {
   "cell_type": "code",
   "execution_count": 146,
   "id": "0f2fb001",
   "metadata": {},
   "outputs": [],
   "source": [
    "df_clusters = df_obesity_raw.copy()\n",
    "df_clusters['cluster'] = cluster  "
   ]
  },
  {
   "cell_type": "code",
   "execution_count": null,
   "id": "d368487f",
   "metadata": {},
   "outputs": [],
   "source": [
    "# Variables numéricas\n",
    "numeric_vars = ['Age', 'Height', 'Weight', 'FCVC', 'NCP', 'CH2O', 'FAF', 'TUE']\n",
    "\n",
    "# Definir tamaño del gráfico general\n",
    "fig, axes = plt.subplots(2, 4, figsize=(20, 10))\n",
    "axes = axes.flatten()  # aplanar para iterar fácilmente\n",
    "\n",
    "# Crear subplot\n",
    "for i, var in enumerate(numeric_vars):\n",
    "    sns.boxplot(data=df_clusters, x='cluster', y=var, palette='Set3', ax=axes[i])\n",
    "    axes[i].set_title(f'{var} por cluster')\n",
    "\n",
    "plt.suptitle('Boxplots de variables numéricas por cluster', fontsize=16)\n",
    "plt.tight_layout(rect=[0, 0, 1, 0.96])\n",
    "plt.show()\n"
   ]
  },
  {
   "cell_type": "code",
   "execution_count": null,
   "id": "38339192",
   "metadata": {},
   "outputs": [],
   "source": [
    "# Variables categóricas y binarias\n",
    "cat_vars = [\n",
    "    'Gender', 'family_history_with_overweight', 'FAVC', 'SMOKE', 'SCC',\n",
    "    'CAEC', 'CALC', 'MTRANS'\n",
    "]\n",
    "fig, axes = plt.subplots(2, 4, figsize=(22, 10))\n",
    "axes = axes.flatten()\n",
    "\n",
    "for i, var in enumerate(cat_vars):\n",
    "    sns.histplot(\n",
    "        data=df_clusters,\n",
    "        x='cluster',\n",
    "        hue=var,\n",
    "        multiple='fill',      \n",
    "        shrink=0.8,\n",
    "        ax=axes[i],\n",
    "        palette='Set2'\n",
    "    )\n",
    "    axes[i].set_title(f'{var}')\n",
    "    axes[i].set_ylabel('Proporción')\n",
    "    axes[i].set_xlabel('Cluster')\n",
    "\n",
    "plt.suptitle('Distribución de variables categóricas/binarias por cluster', fontsize=16)\n",
    "plt.tight_layout(rect=[0, 0, 1, 0.96])\n",
    "plt.show()"
   ]
  },
  {
   "cell_type": "markdown",
   "id": "1e248ec5",
   "metadata": {},
   "source": [
    "### UMAP 3D (bad results)"
   ]
  },
  {
   "cell_type": "code",
   "execution_count": 145,
   "id": "3b4a4354",
   "metadata": {},
   "outputs": [],
   "source": [
    "# umap_3d = UMAP(n_components=3, random_state=42)\n",
    "# umap_3d_proj = umap_3d.fit_transform(df_encoded)  \n",
    "# kmeans_3d = KMeans(n_clusters=4, init=\"k-means++\", n_init='auto', max_iter=1000)\n",
    "# k_umap = kmeans_3d.fit_predict(df_encoded)\n",
    "# # Convertimos en DataFrame para graficar\n",
    "# df_umap_3d = pd.DataFrame(umap_3d_proj, columns=['UMAP1', 'UMAP2', 'UMAP3'])\n",
    "# df_umap_3d['cluster'] = k_umap  \n",
    "# fig = px.scatter_3d(\n",
    "#     df_umap_3d,\n",
    "#     x='UMAP1', y='UMAP2', z='UMAP3',\n",
    "#     color='cluster',\n",
    "#     title='UMAP 3D con Clusters (KMeans)',\n",
    "#     opacity=0.8,\n",
    "#     color_discrete_sequence=px.colors.qualitative.Set1\n",
    "# )\n",
    "\n",
    "# fig.show()"
   ]
  },
  {
   "cell_type": "code",
   "execution_count": null,
   "id": "a57c8ffa",
   "metadata": {},
   "outputs": [],
   "source": []
  }
 ],
 "metadata": {
  "kernelspec": {
   "display_name": "venv",
   "language": "python",
   "name": "python3"
  },
  "language_info": {
   "codemirror_mode": {
    "name": "ipython",
    "version": 3
   },
   "file_extension": ".py",
   "mimetype": "text/x-python",
   "name": "python",
   "nbconvert_exporter": "python",
   "pygments_lexer": "ipython3",
   "version": "3.13.3"
  }
 },
 "nbformat": 4,
 "nbformat_minor": 5
}
