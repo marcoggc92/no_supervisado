{
 "cells": [
  {
   "cell_type": "markdown",
   "metadata": {},
   "source": [
    "<div style=\"text-align: left; font-size: 14px; line-height: 1.4\">\n",
    "<strong>Pontificia Universidad Católica de Chile</strong><br>\n",
    "Facultad de Matemática<br>\n",
    "Magíster en Inteligencia Artificial - MIA\n",
    "</div>\n",
    "\n",
    "<hr style=\"border: 1px solid #999;\">\n",
    "\n",
    "<div style=\"text-align: center\">\n",
    "<h2 style=\"margin-bottom: 0.3em\">Proyecto Aplicado: Feature Selection</h2>\n",
    "<h4 style=\"margin-top: 0.2em; margin-bottom: 0.2em\">EPG4001 – Aprendizaje Supervisado</h4>\n",
    "<h5 style=\"margin-top: 0.2em; font-weight: normal\">Segundo Bimestre</h5>\n",
    "</div>\n",
    "\n",
    "<hr style=\"border: 1px solid #999;\">\n",
    "\n",
    "<div style=\"text-align: center; font-size: 15px; margin-bottom: 1em\">\n",
    "<strong>Profesor:</strong> Jonathan Acosta\n",
    "</div>\n",
    "\n",
    "<div style=\"font-size: 14px\">\n",
    "Julio 2025<br>\n",
    "Glen Restrepo A.<br>\n",
    "Javiera Vukasovic F.<br>\n",
    "Marco Gutierrez C.<br>\n",
    "Maximiliano Zapater C. <br>\n",
    "Sebastián Silva E.\n",
    "</div>\n"
   ]
  },
  {
   "cell_type": "markdown",
   "metadata": {},
   "source": [
    "## Library Imports"
   ]
  },
  {
   "cell_type": "code",
   "execution_count": 23,
   "metadata": {},
   "outputs": [],
   "source": [
    "import pandas as pd\n",
    "import numpy as np\n",
    "import seaborn as sns\n",
    "import matplotlib.pyplot as plt\n",
    "\n",
    "from sklearn.model_selection import train_test_split\n",
    "from sklearn.feature_selection import RFE\n",
    "from sklearn.ensemble import RandomForestClassifier\n",
    "from catboost import CatBoostClassifier\n",
    "\n",
    "from sklearn.metrics import classification_report, ConfusionMatrixDisplay\n"
   ]
  },
  {
   "cell_type": "markdown",
   "metadata": {},
   "source": [
    "## Data Import"
   ]
  },
  {
   "cell_type": "code",
   "execution_count": null,
   "metadata": {},
   "outputs": [],
   "source": [
    "df_raw = pd.read_csv('../ObesityDataSet_raw_and_data_sinthetic.csv')\n",
    "df_raw.shape"
   ]
  },
  {
   "cell_type": "code",
   "execution_count": 3,
   "metadata": {},
   "outputs": [],
   "source": [
    "df = df_raw.copy()"
   ]
  },
  {
   "cell_type": "markdown",
   "metadata": {},
   "source": [
    "## Data Splitting\n",
    "- Para selección de variables utilizaremos 70/30, para entrenar el modelo final podemos separa validación y test"
   ]
  },
  {
   "cell_type": "code",
   "execution_count": 4,
   "metadata": {},
   "outputs": [],
   "source": [
    "# Separate features and target\n",
    "X = df.drop('NObeyesdad', axis=1)\n",
    "y = df['NObeyesdad']\n",
    "\n",
    "# One-hot encode cat features\n",
    "X_encoded = pd.get_dummies(X, drop_first=True)\n",
    "\n",
    "# Split data\n",
    "X_train, X_test, y_train, y_test = train_test_split(X_encoded, y, test_size=0.3, random_state=42, stratify=y)"
   ]
  },
  {
   "cell_type": "markdown",
   "metadata": {},
   "source": [
    "# Feature selection"
   ]
  },
  {
   "cell_type": "markdown",
   "metadata": {},
   "source": [
    "### Random forest Feature Importnace"
   ]
  },
  {
   "cell_type": "code",
   "execution_count": 6,
   "metadata": {},
   "outputs": [],
   "source": [
    "# Initialize and train model\n",
    "rf_model = RandomForestClassifier(n_estimators=100, random_state=42, oob_score=True)\n",
    "rf_model.fit(X_train, y_train)\n",
    "\n",
    "# Feature importances\n",
    "importances = rf_model.feature_importances_\n",
    "feature_names = X_encoded.columns\n",
    "feature_importance_df = pd.DataFrame({'feature': feature_names, 'importance': importances})\n",
    "feature_importance_df = feature_importance_df.sort_values(by='importance', ascending=False)"
   ]
  },
  {
   "cell_type": "code",
   "execution_count": null,
   "metadata": {},
   "outputs": [],
   "source": [
    "# Plot feature importances\n",
    "plt.figure(figsize=(8, 6))\n",
    "sns.barplot(x='importance', y='feature', data=feature_importance_df)\n",
    "plt.title('Random Forest Feature Importance')\n",
    "plt.show()"
   ]
  },
  {
   "cell_type": "code",
   "execution_count": null,
   "metadata": {},
   "outputs": [],
   "source": [
    "print(f\"Out-of-Bag (OOB) Score: {rf_model.oob_score_:.4f}\")"
   ]
  },
  {
   "cell_type": "markdown",
   "metadata": {},
   "source": [
    "#### Recursive Feature Elimination (RFE) "
   ]
  },
  {
   "cell_type": "code",
   "execution_count": null,
   "metadata": {},
   "outputs": [],
   "source": [
    "\n",
    "rfe_estimator = RandomForestClassifier(n_estimators=50, random_state=42)\n",
    "\n",
    "# Select top 10 features\n",
    "rfe_selector = RFE(estimator=rfe_estimator, n_features_to_select=10, step=1)\n",
    "\n",
    "# Fit RFE on the training data\n",
    "rfe_selector.fit(X_train, y_train)\n",
    "\n",
    "# Get the results\n",
    "selected_features_mask = rfe_selector.support_\n",
    "selected_feature_names = X_train.columns[selected_features_mask]\n",
    "\n",
    "print(\"Features selected by RFE:\")\n",
    "print(list(selected_feature_names))"
   ]
  },
  {
   "cell_type": "code",
   "execution_count": null,
   "metadata": {},
   "outputs": [],
   "source": [
    "# --- Model 1: Full Features ---\n",
    "rf_full = RandomForestClassifier(n_estimators=100, random_state=42)\n",
    "rf_full.fit(X_train, y_train)\n",
    "y_pred_full = rf_full.predict(X_test)\n",
    "\n",
    "print(\"--- Classification Report for Full Model ---\")\n",
    "print(classification_report(y_test, y_pred_full))\n",
    "ConfusionMatrixDisplay.from_estimator(rf_full, X_test, y_test, xticks_rotation='vertical')\n",
    "plt.title('Confusion Matrix - Full Model')\n",
    "plt.show()"
   ]
  },
  {
   "cell_type": "code",
   "execution_count": null,
   "metadata": {},
   "outputs": [],
   "source": [
    "# --- Model 2: RFE-Selected Features ---\n",
    "X_train_rfe = X_train[selected_feature_names]\n",
    "X_test_rfe = X_test[selected_feature_names]\n",
    "\n",
    "rf_rfe = RandomForestClassifier(n_estimators=100, random_state=42)\n",
    "rf_rfe.fit(X_train_rfe, y_train)\n",
    "y_pred_rfe = rf_rfe.predict(X_test_rfe)\n",
    "\n",
    "print(\"\\n--- Classification Report for RFE-Selected Model ---\")\n",
    "print(classification_report(y_test, y_pred_rfe))\n",
    "ConfusionMatrixDisplay.from_estimator(rf_rfe, X_test_rfe, y_test, xticks_rotation='vertical')\n",
    "plt.title('Confusion Matrix - RFE Model')\n",
    "plt.show()"
   ]
  },
  {
   "cell_type": "markdown",
   "metadata": {},
   "source": [
    "### YUHUUUU MEJOR MODELO MENOS VARIABLESSS"
   ]
  },
  {
   "cell_type": "markdown",
   "metadata": {},
   "source": [
    "## Train models"
   ]
  },
  {
   "cell_type": "code",
   "execution_count": 20,
   "metadata": {},
   "outputs": [],
   "source": [
    "# Add BMI \n",
    "df['BMI'] = df['Weight'] / (df['Height']**2)"
   ]
  },
  {
   "cell_type": "code",
   "execution_count": 21,
   "metadata": {},
   "outputs": [],
   "source": [
    "X = df.drop('NObeyesdad', axis=1)\n",
    "y = df['NObeyesdad']"
   ]
  },
  {
   "cell_type": "code",
   "execution_count": 27,
   "metadata": {},
   "outputs": [],
   "source": [
    "# Training (60%) Temporary set (40%)\n",
    "X_train, X_temp, y_train, y_temp = train_test_split(\n",
    "    X, y, test_size=0.4, random_state=42, stratify=y\n",
    ")\n",
    "\n",
    "# Temporary set into validation (20%) and test (20%)\n",
    "X_val, X_test, y_val, y_test = train_test_split(\n",
    "    X_temp, y_temp, test_size=0.5, random_state=42, stratify=y_temp\n",
    ")"
   ]
  },
  {
   "cell_type": "code",
   "execution_count": null,
   "metadata": {},
   "outputs": [],
   "source": [
    "# Identify categorical features\n",
    "categorical_features_indices = [i for i, col_type in enumerate(X.dtypes) if col_type == 'object']\n",
    "print(f\"Categorical feature column indices: {categorical_features_indices}\")"
   ]
  },
  {
   "cell_type": "code",
   "execution_count": 29,
   "metadata": {},
   "outputs": [],
   "source": [
    "cat_model = CatBoostClassifier(iterations=500,\n",
    "                               learning_rate=0.1,\n",
    "                               depth=6,\n",
    "                               cat_features=categorical_features_indices,\n",
    "                               random_state=42,\n",
    "                               verbose=0)\n",
    "\n",
    "# Train\n",
    "cat_model.fit(X_train, y_train)\n",
    "\n",
    "# Predict\n",
    "y_pred_cat = cat_model.predict(X_test)"
   ]
  },
  {
   "cell_type": "code",
   "execution_count": null,
   "metadata": {},
   "outputs": [],
   "source": [
    "# Evaluate the model\n",
    "print(\"--- Classification Report for CatBoost Model ---\")\n",
    "print(classification_report(y_test, y_pred_cat))\n",
    "\n",
    "ConfusionMatrixDisplay.from_estimator(cat_model, X_test, y_test, xticks_rotation='vertical')\n",
    "plt.title('Confusion Matrix - CatBoost Model')\n",
    "plt.show()"
   ]
  },
  {
   "cell_type": "code",
   "execution_count": null,
   "metadata": {},
   "outputs": [],
   "source": []
  }
 ],
 "metadata": {
  "kernelspec": {
   "display_name": "venv",
   "language": "python",
   "name": "python3"
  },
  "language_info": {
   "codemirror_mode": {
    "name": "ipython",
    "version": 3
   },
   "file_extension": ".py",
   "mimetype": "text/x-python",
   "name": "python",
   "nbconvert_exporter": "python",
   "pygments_lexer": "ipython3",
   "version": "3.13.3"
  }
 },
 "nbformat": 4,
 "nbformat_minor": 2
}
