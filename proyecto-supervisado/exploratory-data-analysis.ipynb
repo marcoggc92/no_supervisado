{
 "cells": [
  {
   "cell_type": "markdown",
   "metadata": {},
   "source": [
    "<div style=\"text-align: left; font-size: 14px; line-height: 1.4\">\n",
    "<strong>Pontificia Universidad Católica de Chile</strong><br>\n",
    "Facultad de Matemática<br>\n",
    "Magíster en Inteligencia Artificial - MIA\n",
    "</div>\n",
    "\n",
    "<hr style=\"border: 1px solid #999;\">\n",
    "\n",
    "<div style=\"text-align: center\">\n",
    "<h2 style=\"margin-bottom: 0.3em\">Proyecto Aplicado</h2>\n",
    "<h4 style=\"margin-top: 0.2em; margin-bottom: 0.2em\">EPG4001 – Aprendizaje Supervisado</h4>\n",
    "<h5 style=\"margin-top: 0.2em; font-weight: normal\">Segundo Bimestre</h5>\n",
    "</div>\n",
    "\n",
    "<hr style=\"border: 1px solid #999;\">\n",
    "\n",
    "<div style=\"text-align: center; font-size: 15px; margin-bottom: 1em\">\n",
    "<strong>Profesor:</strong> Jonathan Acosta\n",
    "</div>\n",
    "\n",
    "<div style=\"font-size: 14px\">\n",
    "Julio 2025<br>\n",
    "Glen Restrepo A.<br>\n",
    "Javiera Vukasovic F.<br>\n",
    "Marco Gutierrez C.<br>\n",
    "Maximiliano Zapater C. <br>\n",
    "Sebastián Silva E.\n",
    "</div>\n"
   ]
  },
  {
   "cell_type": "markdown",
   "metadata": {},
   "source": [
    "## Library Imports"
   ]
  },
  {
   "cell_type": "code",
   "execution_count": 66,
   "metadata": {},
   "outputs": [],
   "source": [
    "import pandas as pd\n",
    "import numpy as np\n",
    "import seaborn as sns\n",
    "import matplotlib.pyplot as plt\n",
    "from scipy import stats\n",
    "from scipy.stats.contingency import association"
   ]
  },
  {
   "cell_type": "markdown",
   "metadata": {},
   "source": [
    "## Data Imports"
   ]
  },
  {
   "cell_type": "code",
   "execution_count": null,
   "metadata": {},
   "outputs": [],
   "source": [
    "df_raw = pd.read_csv('../ObesityDataSet_raw_and_data_sinthetic.csv')\n",
    "df_raw.shape"
   ]
  },
  {
   "cell_type": "markdown",
   "metadata": {},
   "source": [
    "## Preliminar analisis"
   ]
  },
  {
   "cell_type": "markdown",
   "metadata": {},
   "source": [
    "- El dataset cuenta con 2.100 filas, y 17 variables y no tiene valores nulos. \n",
    "- No hay errores evidentes como edades o pesos negativos.\n",
    "- Po demos notar que en el dataset hay más hombres, tienden a comer comida calórica (`FAVC=yes`) y a usar transporte público."
   ]
  },
  {
   "cell_type": "code",
   "execution_count": null,
   "metadata": {},
   "outputs": [],
   "source": [
    "df = df_raw.copy()\n",
    "df. head(3)"
   ]
  },
  {
   "cell_type": "code",
   "execution_count": null,
   "metadata": {},
   "outputs": [],
   "source": [
    "df.info()"
   ]
  },
  {
   "cell_type": "markdown",
   "metadata": {},
   "source": [
    "Podemos notar que los valores FCVC and NCP son numéricos, podrían categorizarse."
   ]
  },
  {
   "cell_type": "code",
   "execution_count": null,
   "metadata": {},
   "outputs": [],
   "source": [
    "df.describe()"
   ]
  },
  {
   "cell_type": "code",
   "execution_count": null,
   "metadata": {},
   "outputs": [],
   "source": [
    "df.describe(include='object')"
   ]
  },
  {
   "cell_type": "code",
   "execution_count": null,
   "metadata": {},
   "outputs": [],
   "source": [
    "df.NObeyesdad.value_counts()"
   ]
  },
  {
   "cell_type": "markdown",
   "metadata": {},
   "source": [
    "## Visual inspection"
   ]
  },
  {
   "cell_type": "markdown",
   "metadata": {},
   "source": [
    "#### Numeric\n",
    "Podemos encontrar relacion entre NObeysdad y:\n",
    "- Age\n",
    "- Weight\n",
    "- FCVC (vegetable consumption)\n",
    "- NCP (cantidad de comidas) solo para *insufficient_weight*\n",
    "- FAF (actividad fisica) ligero\n",
    "- TUE (tiempo tecnologia) medias parecen ligeramente superiores\n",
    "\n",
    "No encontramos relacion con altura"
   ]
  },
  {
   "cell_type": "code",
   "execution_count": null,
   "metadata": {},
   "outputs": [],
   "source": [
    "numerical_features = ['Age', 'Height', 'Weight']\n",
    "fig, axes = plt.subplots(1, 3, figsize=(18, 6))\n",
    "for i, feature in enumerate(numerical_features):\n",
    "    sns.boxplot(ax=axes[i], x='NObeyesdad', y=feature, data=df)\n",
    "    axes[i].set_title(f'{feature} vs. NObeyesdad')\n",
    "    axes[i].tick_params(axis='x', rotation=45)\n",
    "\n",
    "plt.tight_layout() \n",
    "plt.show()"
   ]
  },
  {
   "cell_type": "code",
   "execution_count": null,
   "metadata": {},
   "outputs": [],
   "source": [
    "numerical_categorical_features = ['FCVC','NCP','CH2O','FAF','TUE']\n",
    "\n",
    "fig, axes = plt.subplots(2, 3, figsize=(18,9))\n",
    "axes = axes.flatten()\n",
    "for i, feature in enumerate(numerical_categorical_features):\n",
    "    sns.boxplot(ax=axes[i], x='NObeyesdad', y=feature, data=df)\n",
    "    axes[i].set_title(f'{feature} vs. NObeyesdad')\n",
    "    axes[i].tick_params(axis='x', rotation=45)\n",
    "\n",
    "plt.tight_layout() \n",
    "plt.show()"
   ]
  },
  {
   "cell_type": "markdown",
   "metadata": {},
   "source": [
    "#### Categoric"
   ]
  },
  {
   "cell_type": "code",
   "execution_count": null,
   "metadata": {},
   "outputs": [],
   "source": [
    "categorical_features_batch1 = ['Gender', 'family_history_with_overweight', 'FAVC', 'CAEC', 'SMOKE', 'SCC', 'CALC', 'MTRANS']\n",
    "\n",
    "fig, axes = plt.subplots(2, 4, figsize=(18, 9))\n",
    "axes = axes.flatten()\n",
    "\n",
    "for i, feature in enumerate(categorical_features_batch1):\n",
    "    # Calculate proportions\n",
    "    prop_df = df.groupby('NObeyesdad')[feature].value_counts(normalize=True).rename('proportion').reset_index()\n",
    "    \n",
    "    # Plotting with swapped axes\n",
    "    sns.barplot(ax=axes[i], x='NObeyesdad', y='proportion', hue=feature, data=prop_df)\n",
    "    axes[i].set_title(f'Proportion of {feature} by NObeyesdad')\n",
    "    axes[i].tick_params(axis='x', rotation=45)\n",
    "    axes[i].set_ylabel('Proportion')\n",
    "\n",
    "plt.tight_layout()\n",
    "plt.show()"
   ]
  },
  {
   "cell_type": "markdown",
   "metadata": {},
   "source": [
    "#### Statistic relations"
   ]
  },
  {
   "cell_type": "code",
   "execution_count": null,
   "metadata": {},
   "outputs": [],
   "source": [
    "numerical_df = df.select_dtypes(include=['float64', 'int64'])\n",
    "\n",
    "# Correlation matrix\n",
    "corr_matrix = numerical_df.corr()\n",
    "\n",
    "# Plot  heatmap\n",
    "plt.figure(figsize=(6, 4))\n",
    "sns.heatmap(corr_matrix, annot=True, cmap='coolwarm', fmt='.2f')\n",
    "plt.title('Correlation Matrix of Numerical Features')\n",
    "plt.show()"
   ]
  },
  {
   "cell_type": "code",
   "execution_count": null,
   "metadata": {},
   "outputs": [],
   "source": [
    "# Categorical columns\n",
    "for var in ['Gender', 'family_history_with_overweight', 'FAVC', 'CAEC', 'SMOKE', 'SCC', 'CALC', 'MTRANS']:\n",
    "    tabla = pd.crosstab(df[var], df['NObeyesdad'])\n",
    "    v = association(tabla, method='cramer')\n",
    "    p = association(tabla, method='pearson')\n",
    "    t = association(tabla, method='tschuprow')\n",
    "    print(f'{var}')\n",
    "    print(f'  - Cramér’s V = {v:.4f}')\n",
    "    # print(f'    - Pearson’s Chi-squared = {p:.4f}') # Poco interpretable, no se sabe el maximo\n",
    "    # print(f'    - Tschuprow’s T = {t:.4f}') # Baja el valor si el numero de categorias es muy distinto\n"
   ]
  },
  {
   "cell_type": "markdown",
   "metadata": {},
   "source": [
    "**Rangos para Cramers V**\n",
    "\n",
    "| Valor V   | Asociación   |\n",
    "| --------- | ------------ |\n",
    "| 0.00–0.10 | Débil o nula |\n",
    "| 0.10–0.30 | Moderada     |\n",
    "| 0.30–0.50 | Fuerte       |\n",
    "| > 0.50    | Muy fuerte   |\n"
   ]
  },
  {
   "cell_type": "code",
   "execution_count": null,
   "metadata": {},
   "outputs": [],
   "source": [
    "# Numerical columns\n",
    "# Test para ver si las medias son distintas entre grupos (asume normalidad y heterocedasticidad)\n",
    "target_categories = df['NObeyesdad'].unique()\n",
    "\n",
    "numerical_features = df.select_dtypes(include=['float64', 'int64']).columns\n",
    "\n",
    "print(\"ANOVA F-test results (Feature vs. NObeyesdad):\")\n",
    "for feature in numerical_features:\n",
    "    groups = [df[feature][df['NObeyesdad'] == category] for category in target_categories]\n",
    "\n",
    "    # One-way ANOVA\n",
    "    f_stat, p_value = stats.f_oneway(*groups)\n",
    "    \n",
    "    print(f\" - {feature}: F-statistic = {f_stat:.2f}, p-value = {p_value:.4e}\")"
   ]
  },
  {
   "cell_type": "code",
   "execution_count": null,
   "metadata": {},
   "outputs": [],
   "source": [
    "# PROBANDO NORMALIDAD ENTRE GRUPOS\n",
    "n_features = len(numerical_features)\n",
    "n_categories = df['NObeyesdad'].nunique()\n",
    "total_plots = n_features * n_categories\n",
    "\n",
    "# Subplot layout\n",
    "n_cols = 7\n",
    "n_rows = (total_plots + n_cols - 1) // n_cols\n",
    "\n",
    "fig, axes = plt.subplots(n_rows, n_cols, figsize=(20, n_rows * 3))\n",
    "axes = axes.flatten()\n",
    "\n",
    "plot_idx = 0\n",
    "for feature in numerical_features:\n",
    "    for category in df['NObeyesdad'].unique():\n",
    "        subset = df[df['NObeyesdad'] == category][feature].dropna()\n",
    "        stats.probplot(subset, dist=\"norm\", plot=axes[plot_idx])\n",
    "        axes[plot_idx].set_title(f'{feature} | {category}', fontsize=9)\n",
    "        plot_idx += 1\n",
    "\n",
    "# Eliminar subplots vacíos si sobran\n",
    "for i in range(plot_idx, len(axes)):\n",
    "    fig.delaxes(axes[i])\n",
    "\n",
    "plt.tight_layout()\n",
    "plt.show()\n"
   ]
  },
  {
   "cell_type": "code",
   "execution_count": 81,
   "metadata": {},
   "outputs": [],
   "source": [
    "# SUPUESTO HOMOCEDASTICIDAD (VARIANZA IGUAL ENTRE GRUPOS)\n",
    "from scipy.stats import levene\n",
    "for feature in numerical_features:\n",
    "    for category in df['NObeyesdad'].unique():\n",
    "        groups = [df[df['NObeyesdad'] == category][feature] for category in df['NObeyesdad'].unique()]\n",
    "        stat, p = levene(*groups)\n",
    "        if p > 0.05:\n",
    "            print(f\"Feature '{feature}' meets homogeneity of variance assumption (p > 0.05)\")\n",
    "        else:\n",
    "            pass\n",
    "\n"
   ]
  },
  {
   "cell_type": "code",
   "execution_count": null,
   "metadata": {},
   "outputs": [],
   "source": []
  }
 ],
 "metadata": {
  "kernelspec": {
   "display_name": "venv",
   "language": "python",
   "name": "python3"
  },
  "language_info": {
   "codemirror_mode": {
    "name": "ipython",
    "version": 3
   },
   "file_extension": ".py",
   "mimetype": "text/x-python",
   "name": "python",
   "nbconvert_exporter": "python",
   "pygments_lexer": "ipython3",
   "version": "3.13.3"
  }
 },
 "nbformat": 4,
 "nbformat_minor": 2
}
